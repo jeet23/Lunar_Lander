{
 "cells": [
  {
   "cell_type": "markdown",
   "metadata": {
    "_cell_guid": "764fe135-c09e-9769-5794-500867154d93",
    "_uuid": "de6a1e240579227a8dd89aa213f6acfcf7d988b0"
   },
   "source": [
    "# TASK 2\n",
    "## Image-based learning notebook\n",
    "### Bhavesh Kumar [16203173], Jeet Banerjeee [17200844]\n"
   ]
  },
  {
   "cell_type": "markdown",
   "metadata": {},
   "source": [
    "## Import packages etc"
   ]
  },
  {
   "cell_type": "code",
   "execution_count": 18,
   "metadata": {
    "_cell_guid": "3d458c15-e131-f3c4-f756-843d6454bb37",
    "_uuid": "76c68c2752f5c4a44660ccadda2168aaeca3930d",
    "collapsed": true
   },
   "outputs": [],
   "source": [
    "import os \n",
    "import cv2\n",
    "import random\n",
    "import numpy as np\n",
    "import pandas as pd\n",
    "import time\n",
    "\n",
    "import matplotlib.pyplot as plt\n",
    "%matplotlib inline \n",
    "from matplotlib import ticker\n",
    "import seaborn as sns\n",
    "\n",
    "from sklearn.model_selection import train_test_split\n",
    "from sklearn import metrics\n",
    "from imblearn.under_sampling import RandomUnderSampler\n",
    "from sklearn.utils import shuffle\n",
    "from sklearn.metrics import accuracy_score\n",
    "\n",
    "import keras\n",
    "from keras.models import Sequential\n",
    "from keras.layers import Input, Dropout, Flatten, Conv2D, MaxPooling2D, Dense, Activation\n",
    "from keras.optimizers import RMSprop, adam\n",
    "from keras.utils import np_utils"
   ]
  },
  {
   "cell_type": "markdown",
   "metadata": {},
   "source": [
    "## Preparing the Data\n",
    "### Load Images"
   ]
  },
  {
   "cell_type": "markdown",
   "metadata": {},
   "source": [
    "Loads a set of images and resizes each image to 84x84 and coverts to black and white. "
   ]
  },
  {
   "cell_type": "code",
   "execution_count": 173,
   "metadata": {
    "_cell_guid": "663d335e-1b84-a8cb-19ee-8f04839cf4e5",
    "_uuid": "16ddc310f7e96e68f1a5cb8ef796be3afdbb33f8"
   },
   "outputs": [
    {
     "name": "stdout",
     "output_type": "stream",
     "text": [
      "Processed 0 of 32161\n",
      "Processed 1000 of 32161\n",
      "Processed 2000 of 32161\n",
      "Processed 3000 of 32161\n",
      "Processed 4000 of 32161\n",
      "Processed 5000 of 32161\n",
      "Processed 6000 of 32161\n",
      "Processed 7000 of 32161\n",
      "Processed 8000 of 32161\n",
      "Processed 9000 of 32161\n",
      "Processed 10000 of 32161\n",
      "Processed 11000 of 32161\n",
      "Processed 12000 of 32161\n",
      "Processed 13000 of 32161\n",
      "Processed 14000 of 32161\n",
      "Processed 15000 of 32161\n",
      "Processed 16000 of 32161\n",
      "Processed 17000 of 32161\n",
      "Processed 18000 of 32161\n",
      "Processed 19000 of 32161\n",
      "Processed 20000 of 32161\n",
      "Processed 21000 of 32161\n",
      "Processed 22000 of 32161\n",
      "Processed 23000 of 32161\n",
      "Processed 24000 of 32161\n",
      "Processed 25000 of 32161\n",
      "Processed 26000 of 32161\n",
      "Processed 27000 of 32161\n",
      "Processed 28000 of 32161\n",
      "Processed 29000 of 32161\n",
      "Processed 30000 of 32161\n",
      "Processed 31000 of 32161\n",
      "Processed 32000 of 32161\n"
     ]
    }
   ],
   "source": [
    "# Set up some parmaeters for data loading\n",
    "\n",
    "# TRAIN_DIR = './data/' # Use this path for loading the images\n",
    "TRAIN_DIR = '/Users/jeet/Desktop/UCD_Coursework/Sem2/AML/Lunar_Lander/data/'\n",
    "sample_rate = 0.5\n",
    "ROWS = 84\n",
    "COLS = 84\n",
    "CHANNELS = 1\n",
    "\n",
    "# generate filenames from the data folder and do sampling\n",
    "image_filenames = [TRAIN_DIR+i for i in os.listdir(TRAIN_DIR) if not i.startswith('.')] # use this for full dataset\n",
    "image_filenames = random.sample(image_filenames, int(len(image_filenames)*sample_rate)) # take 50% sample dataset\n",
    "# Create a data array for image data\n",
    "count = len(image_filenames)\n",
    "data = np.ndarray((count, CHANNELS, ROWS, COLS), dtype=np.float) # To store the images in this array\n",
    "\n",
    "# Iterate through the filenames and for each one load the image, resize and normalise\n",
    "for i, image_file in enumerate(image_filenames):\n",
    "    image = cv2.imread(image_file, cv2.IMREAD_GRAYSCALE) # Convert image to greyscale\n",
    "    image = cv2.resize(image, (ROWS, COLS), interpolation=cv2.INTER_CUBIC) # Shrinking the image\n",
    "    image = image.reshape(1, 1, image.shape[0], image.shape[1])\n",
    "    data[i] = image\n",
    "    data[i] = data[i]/255 #Normalise the image by dividing the pixel values by 255\n",
    "    if i%1000 == 0: print('Processed {} of {}'.format(i, count))\n"
   ]
  },
  {
   "cell_type": "markdown",
   "metadata": {
    "_cell_guid": "ed0fc95a-53bc-3517-245d-cf1f5122bc2d",
    "_uuid": "2f79703b02d0fee947f5615e09d1717e6ba250fd"
   },
   "source": [
    "## Generating the Labels\n",
    "\n",
    "We're dealing with a multi-class classification problem here - (0) no action, (1) left, (2) up, and (3) right. The lables can be created by looping over the file names in the train directory."
   ]
  },
  {
   "cell_type": "code",
   "execution_count": 185,
   "metadata": {
    "_cell_guid": "c0f2fbf6-8d78-7d42-6579-5486a36c1e60",
    "_uuid": "ba1fa53e4ef436c3e26d0ef7b8d3f327db9ae6c0",
    "scrolled": true
   },
   "outputs": [
    {
     "data": {
      "text/plain": [
       "<matplotlib.axes._subplots.AxesSubplot at 0x145aec6a0>"
      ]
     },
     "execution_count": 185,
     "metadata": {},
     "output_type": "execute_result"
    },
    {
     "data": {
      "image/png": "[encoded data removed]",
      "text/plain": [
       "<matplotlib.figure.Figure at 0x14b97a080>"
      ]
     },
     "metadata": {},
     "output_type": "display_data"
    }
   ],
   "source": [
    "# Extract the lables from the last characters in the filename\n",
    "labels = []\n",
    "for i in image_filenames:\n",
    "    l = i[-6:-5]\n",
    "    labels.append(int(l))\n",
    "        \n",
    "# Count the number of clases\n",
    "num_classes = len(set(labels))\n",
    "\n",
    "# convert to binary encoded labels\n",
    "labels_wide = keras.utils.to_categorical(labels, num_classes)\n",
    "# Plot a bar plot of the labels\n",
    "sns.countplot(labels)"
   ]
  },
  {
   "cell_type": "markdown",
   "metadata": {},
   "source": [
    "### Partition the dataset for evaluation\n",
    "Split the data into a training (80%) and test (20%) partition so we can evaluate at the end"
   ]
  },
  {
   "cell_type": "code",
   "execution_count": 186,
   "metadata": {
    "collapsed": true
   },
   "outputs": [],
   "source": [
    "train, test, train_labels, test_labels = train_test_split(data, labels, random_state=0, test_size = 0.2, train_size = 0.8)\n",
    "train_labels_wide = keras.utils.to_categorical(train_labels, num_classes)\n",
    "test_labels_wide = keras.utils.to_categorical(test_labels, num_classes)"
   ]
  },
  {
   "cell_type": "markdown",
   "metadata": {},
   "source": [
    "Apply under sampling to balance the training dataset"
   ]
  },
  {
   "cell_type": "code",
   "execution_count": 187,
   "metadata": {},
   "outputs": [
    {
     "data": {
      "image/png": "[encoded data removed]",
      "text/plain": [
       "<matplotlib.figure.Figure at 0x14b9d6b38>"
      ]
     },
     "metadata": {},
     "output_type": "display_data"
    }
   ],
   "source": [
    "# Apply the random under-sampling\n",
    "rus = RandomUnderSampler(return_indices=True)\n",
    "train_rus, train_labels_rus, idx_resampled = rus.fit_sample(train.reshape(len(train), ROWS*COLS*CHANNELS), train_labels)\n",
    "train_rus, train_labels_rus = shuffle(train_rus, train_labels_rus)\n",
    "train_rus = train_rus.reshape(len(train_rus), CHANNELS,ROWS, COLS)\n",
    "sns.countplot(train_labels_rus)\n",
    "train_labels_rus_wide = keras.utils.to_categorical(train_labels_rus, num_classes)"
   ]
  },
  {
   "cell_type": "markdown",
   "metadata": {
    "_cell_guid": "51e403b6-bcfc-b4fa-3770-9850cc86bae3",
    "_uuid": "16d4d2fe110a55d4cfe610cae4199f788b288d56"
   },
   "source": [
    "\n",
    "## CNN Models"
   ]
  },
  {
   "cell_type": "markdown",
   "metadata": {},
   "source": [
    "### Model 1 : Basic model with one convolutional layer"
   ]
  },
  {
   "cell_type": "markdown",
   "metadata": {},
   "source": [
    "Define the model"
   ]
  },
  {
   "cell_type": "code",
   "execution_count": 169,
   "metadata": {},
   "outputs": [
    {
     "name": "stdout",
     "output_type": "stream",
     "text": [
      "_________________________________________________________________\n",
      "Layer (type)                 Output Shape              Param #   \n",
      "=================================================================\n",
      "conv2d_89 (Conv2D)           (None, 32, 84, 84)        320       \n",
      "_________________________________________________________________\n",
      "max_pooling2d_75 (MaxPooling (None, 16, 42, 84)        0         \n",
      "_________________________________________________________________\n",
      "flatten_26 (Flatten)         (None, 56448)             0         \n",
      "_________________________________________________________________\n",
      "dense_52 (Dense)             (None, 128)               7225472   \n",
      "_________________________________________________________________\n",
      "dense_53 (Dense)             (None, 4)                 516       \n",
      "=================================================================\n",
      "Total params: 7,226,308\n",
      "Trainable params: 7,226,308\n",
      "Non-trainable params: 0\n",
      "_________________________________________________________________\n"
     ]
    }
   ],
   "source": [
    "model = Sequential()\n",
    "# First convolutional layer\n",
    "model.add(Conv2D(32, (3, 3), padding='same', input_shape=(CHANNELS, ROWS, COLS), activation='relu', data_format=\"channels_first\"))\n",
    "# First Max pooling layer\n",
    "model.add(MaxPooling2D(pool_size=(2, 2)))\n",
    "\n",
    "# Flatten\n",
    "model.add(Flatten())\n",
    "\n",
    "# Dense layer\n",
    "model.add(Dense(128, activation='relu'))\n",
    "# model.add(Dropout(0.5))\n",
    "\n",
    "model.add(Dense(num_classes, activation = 'softmax'))\n",
    "\n",
    "model.summary()"
   ]
  },
  {
   "cell_type": "markdown",
   "metadata": {},
   "source": [
    "Compile and run the model using categorical_crossentropy as loss and Adam as optimizer"
   ]
  },
  {
   "cell_type": "code",
   "execution_count": 170,
   "metadata": {},
   "outputs": [
    {
     "name": "stdout",
     "output_type": "stream",
     "text": [
      "Train on 1626 samples, validate on 542 samples\n",
      "Epoch 1/50\n",
      "1626/1626 [==============================] - 29s 18ms/step - loss: 3.1703 - acc: 0.2552 - val_loss: 1.4465 - val_acc: 0.2122\n",
      "Epoch 2/50\n",
      "1626/1626 [==============================] - 26s 16ms/step - loss: 1.3996 - acc: 0.3057 - val_loss: 1.3597 - val_acc: 0.3469\n",
      "Epoch 3/50\n",
      "1626/1626 [==============================] - 28s 17ms/step - loss: 1.3000 - acc: 0.4090 - val_loss: 1.3458 - val_acc: 0.3542\n",
      "Epoch 4/50\n",
      "1626/1626 [==============================] - 27s 17ms/step - loss: 1.2430 - acc: 0.4674 - val_loss: 1.2628 - val_acc: 0.4465\n",
      "Epoch 5/50\n",
      "1626/1626 [==============================] - 28s 17ms/step - loss: 1.1823 - acc: 0.5178 - val_loss: 1.2312 - val_acc: 0.4502\n",
      "Epoch 6/50\n",
      "1626/1626 [==============================] - 27s 17ms/step - loss: 1.1464 - acc: 0.5062 - val_loss: 1.2141 - val_acc: 0.4446\n",
      "Epoch 7/50\n",
      "1626/1626 [==============================] - 28s 17ms/step - loss: 1.0762 - acc: 0.5498 - val_loss: 1.1758 - val_acc: 0.4815\n",
      "Epoch 8/50\n",
      "1626/1626 [==============================] - 27s 17ms/step - loss: 1.0316 - acc: 0.5646 - val_loss: 1.1679 - val_acc: 0.4410\n",
      "Epoch 9/50\n",
      "1626/1626 [==============================] - 28s 17ms/step - loss: 1.0082 - acc: 0.5769 - val_loss: 1.2322 - val_acc: 0.3838\n",
      "Epoch 10/50\n",
      "1626/1626 [==============================] - 26s 16ms/step - loss: 0.9678 - acc: 0.5916 - val_loss: 1.1726 - val_acc: 0.4576\n",
      "Epoch 11/50\n",
      "1626/1626 [==============================] - 25s 15ms/step - loss: 0.9504 - acc: 0.5812 - val_loss: 1.1455 - val_acc: 0.4797\n",
      "Epoch 12/50\n",
      "1626/1626 [==============================] - 26s 16ms/step - loss: 0.8967 - acc: 0.6322 - val_loss: 1.1552 - val_acc: 0.4686\n",
      "Epoch 13/50\n",
      "1626/1626 [==============================] - 27s 16ms/step - loss: 0.8589 - acc: 0.6562 - val_loss: 1.1368 - val_acc: 0.4742\n",
      "Epoch 14/50\n",
      "1626/1626 [==============================] - 26s 16ms/step - loss: 0.8305 - acc: 0.6507 - val_loss: 1.1664 - val_acc: 0.4613\n",
      "Epoch 15/50\n",
      "1626/1626 [==============================] - 27s 17ms/step - loss: 0.8290 - acc: 0.6427 - val_loss: 1.1816 - val_acc: 0.4742\n",
      "Epoch 16/50\n",
      "1626/1626 [==============================] - 27s 17ms/step - loss: 0.7969 - acc: 0.6685 - val_loss: 1.1593 - val_acc: 0.4742\n",
      "Epoch 17/50\n",
      "1626/1626 [==============================] - 28s 17ms/step - loss: 0.7798 - acc: 0.6704 - val_loss: 1.1677 - val_acc: 0.4557\n",
      "Epoch 18/50\n",
      "1626/1626 [==============================] - 28s 17ms/step - loss: 0.7842 - acc: 0.6685 - val_loss: 1.2079 - val_acc: 0.4520\n",
      "Epoch 19/50\n",
      "1626/1626 [==============================] - 30s 18ms/step - loss: 0.7793 - acc: 0.6728 - val_loss: 1.2123 - val_acc: 0.4815\n",
      "Epoch 20/50\n",
      "1626/1626 [==============================] - 28s 17ms/step - loss: 0.7400 - acc: 0.6913 - val_loss: 1.1942 - val_acc: 0.4760\n",
      "Epoch 21/50\n",
      "1626/1626 [==============================] - 30s 18ms/step - loss: 0.7091 - acc: 0.7306 - val_loss: 1.1870 - val_acc: 0.4705\n",
      "Epoch 22/50\n",
      "1626/1626 [==============================] - 28s 17ms/step - loss: 0.6811 - acc: 0.7325 - val_loss: 1.1913 - val_acc: 0.4649\n",
      "Epoch 23/50\n",
      "1626/1626 [==============================] - 28s 17ms/step - loss: 0.6616 - acc: 0.7349 - val_loss: 1.2086 - val_acc: 0.4576\n",
      "Epoch 24/50\n",
      "1626/1626 [==============================] - 28s 17ms/step - loss: 0.6333 - acc: 0.7614 - val_loss: 1.2177 - val_acc: 0.4686\n",
      "Epoch 25/50\n",
      "1626/1626 [==============================] - 29s 18ms/step - loss: 0.6299 - acc: 0.7522 - val_loss: 1.2385 - val_acc: 0.4686\n",
      "Epoch 26/50\n",
      "1626/1626 [==============================] - 28s 17ms/step - loss: 0.6128 - acc: 0.7651 - val_loss: 1.2682 - val_acc: 0.4631\n",
      "Epoch 27/50\n",
      "1626/1626 [==============================] - 28s 18ms/step - loss: 0.5830 - acc: 0.7817 - val_loss: 1.2673 - val_acc: 0.4723\n",
      "Epoch 28/50\n",
      "1626/1626 [==============================] - 28s 17ms/step - loss: 0.5509 - acc: 0.7983 - val_loss: 1.2802 - val_acc: 0.4723\n",
      "Epoch 29/50\n",
      "1626/1626 [==============================] - 29s 18ms/step - loss: 0.5343 - acc: 0.8063 - val_loss: 1.3333 - val_acc: 0.4779\n",
      "Epoch 30/50\n",
      "1626/1626 [==============================] - 29s 18ms/step - loss: 0.5340 - acc: 0.8050 - val_loss: 1.3405 - val_acc: 0.4557\n",
      "Epoch 31/50\n",
      "1626/1626 [==============================] - 28s 17ms/step - loss: 0.5385 - acc: 0.7958 - val_loss: 1.3452 - val_acc: 0.4797\n",
      "Epoch 32/50\n",
      "1626/1626 [==============================] - 29s 18ms/step - loss: 0.5047 - acc: 0.8235 - val_loss: 1.3675 - val_acc: 0.4410\n",
      "Epoch 33/50\n",
      "1626/1626 [==============================] - 27s 17ms/step - loss: 0.4727 - acc: 0.8327 - val_loss: 1.3735 - val_acc: 0.4779\n",
      "Epoch 34/50\n",
      "1626/1626 [==============================] - 30s 18ms/step - loss: 0.4622 - acc: 0.8432 - val_loss: 1.3988 - val_acc: 0.4649\n",
      "Epoch 35/50\n",
      "1626/1626 [==============================] - 29s 18ms/step - loss: 0.4425 - acc: 0.8475 - val_loss: 1.4463 - val_acc: 0.4410\n",
      "Epoch 36/50\n",
      "1626/1626 [==============================] - 29s 18ms/step - loss: 0.4334 - acc: 0.8598 - val_loss: 1.4283 - val_acc: 0.4649\n",
      "Epoch 37/50\n",
      "1626/1626 [==============================] - 29s 18ms/step - loss: 0.4297 - acc: 0.8542 - val_loss: 1.4697 - val_acc: 0.4631\n",
      "Epoch 38/50\n",
      "1626/1626 [==============================] - 29s 18ms/step - loss: 0.4054 - acc: 0.8592 - val_loss: 1.4793 - val_acc: 0.4686\n",
      "Epoch 39/50\n",
      "1626/1626 [==============================] - 29s 18ms/step - loss: 0.3891 - acc: 0.8696 - val_loss: 1.4989 - val_acc: 0.4686\n",
      "Epoch 40/50\n",
      "1626/1626 [==============================] - 32s 19ms/step - loss: 0.3759 - acc: 0.8801 - val_loss: 1.5479 - val_acc: 0.4502\n",
      "Epoch 41/50\n",
      "1626/1626 [==============================] - 31s 19ms/step - loss: 0.3696 - acc: 0.8653 - val_loss: 1.5577 - val_acc: 0.4815\n",
      "Epoch 42/50\n",
      "1626/1626 [==============================] - 30s 18ms/step - loss: 0.3582 - acc: 0.8844 - val_loss: 1.6182 - val_acc: 0.4336\n",
      "Epoch 43/50\n",
      "1626/1626 [==============================] - 28s 17ms/step - loss: 0.3450 - acc: 0.8813 - val_loss: 1.6037 - val_acc: 0.4520\n",
      "Epoch 44/50\n",
      "1626/1626 [==============================] - 29s 18ms/step - loss: 0.3321 - acc: 0.8948 - val_loss: 1.6193 - val_acc: 0.4539\n",
      "Epoch 45/50\n",
      "1626/1626 [==============================] - 28s 17ms/step - loss: 0.3158 - acc: 0.8967 - val_loss: 1.6745 - val_acc: 0.4520\n",
      "Epoch 46/50\n",
      "1626/1626 [==============================] - 29s 18ms/step - loss: 0.3088 - acc: 0.8991 - val_loss: 1.6807 - val_acc: 0.4631\n",
      "Epoch 47/50\n",
      "1626/1626 [==============================] - 30s 19ms/step - loss: 0.3084 - acc: 0.8973 - val_loss: 1.7195 - val_acc: 0.4465\n",
      "Epoch 48/50\n",
      "1626/1626 [==============================] - 30s 18ms/step - loss: 0.2909 - acc: 0.9065 - val_loss: 1.7271 - val_acc: 0.4483\n",
      "Epoch 49/50\n",
      "1626/1626 [==============================] - 29s 18ms/step - loss: 0.2753 - acc: 0.9176 - val_loss: 1.7626 - val_acc: 0.4502\n",
      "Epoch 50/50\n",
      "1626/1626 [==============================] - 30s 19ms/step - loss: 0.2775 - acc: 0.9065 - val_loss: 1.7752 - val_acc: 0.4465\n"
     ]
    }
   ],
   "source": [
    "model.compile(loss='categorical_crossentropy', optimizer=adam(lr=1e-3), metrics=['accuracy'])\n",
    "epochs = 50\n",
    "batch_size = 128\n",
    "history = model.fit(train_rus, train_labels_rus_wide, batch_size=batch_size, epochs=epochs, validation_split=0.25, verbose=1, shuffle=True)"
   ]
  },
  {
   "cell_type": "markdown",
   "metadata": {},
   "source": [
    "### Model 2 : 3 Convolution layers with MaxPooling and dropout after each layer"
   ]
  },
  {
   "cell_type": "markdown",
   "metadata": {},
   "source": [
    "Define the model"
   ]
  },
  {
   "cell_type": "code",
   "execution_count": 188,
   "metadata": {},
   "outputs": [
    {
     "name": "stdout",
     "output_type": "stream",
     "text": [
      "_________________________________________________________________\n",
      "Layer (type)                 Output Shape              Param #   \n",
      "=================================================================\n",
      "conv2d_93 (Conv2D)           (None, 32, 21, 21)        2080      \n",
      "_________________________________________________________________\n",
      "dropout_71 (Dropout)         (None, 32, 21, 21)        0         \n",
      "_________________________________________________________________\n",
      "max_pooling2d_79 (MaxPooling (None, 31, 20, 21)        0         \n",
      "_________________________________________________________________\n",
      "conv2d_94 (Conv2D)           (None, 14, 9, 64)         21568     \n",
      "_________________________________________________________________\n",
      "dropout_72 (Dropout)         (None, 14, 9, 64)         0         \n",
      "_________________________________________________________________\n",
      "max_pooling2d_80 (MaxPooling (None, 13, 8, 64)         0         \n",
      "_________________________________________________________________\n",
      "conv2d_95 (Conv2D)           (None, 11, 6, 64)         36928     \n",
      "_________________________________________________________________\n",
      "dropout_73 (Dropout)         (None, 11, 6, 64)         0         \n",
      "_________________________________________________________________\n",
      "max_pooling2d_81 (MaxPooling (None, 10, 5, 64)         0         \n",
      "_________________________________________________________________\n",
      "flatten_28 (Flatten)         (None, 3200)              0         \n",
      "_________________________________________________________________\n",
      "dense_56 (Dense)             (None, 512)               1638912   \n",
      "_________________________________________________________________\n",
      "dropout_74 (Dropout)         (None, 512)               0         \n",
      "_________________________________________________________________\n",
      "dense_57 (Dense)             (None, 4)                 2052      \n",
      "=================================================================\n",
      "Total params: 1,701,540\n",
      "Trainable params: 1,701,540\n",
      "Non-trainable params: 0\n",
      "_________________________________________________________________\n"
     ]
    }
   ],
   "source": [
    "# output: loss: 0.0569 - acc: 0.9786 - val_loss: 3.5705 - val_acc: 0.4358\n",
    "model = Sequential()\n",
    "# First convolutional layer\n",
    "model.add(Conv2D(32, (8, 8), strides=(4, 4), padding='same', input_shape=(CHANNELS, ROWS, COLS),data_format=\"channels_first\", activation='relu'))\n",
    "model.add(Dropout(0.5))\n",
    "model.add(MaxPooling2D(pool_size=(2, 2), strides=(1, 1)))\n",
    "\n",
    "# Second convolutional layer\n",
    "model.add(Conv2D(64, (4, 4), strides=(2, 2), activation='relu'))\n",
    "model.add(Dropout(0.5))\n",
    "model.add(MaxPooling2D(pool_size=(2, 2), strides=(1, 1)))\n",
    "\n",
    "# Third convolutional layer\n",
    "model.add(Conv2D(64, (3, 3), strides=(1, 1), activation='relu'))\n",
    "model.add(Dropout(0.5))\n",
    "model.add(MaxPooling2D(pool_size=(2, 2), strides=(1, 1)))\n",
    "#Flatten layer\n",
    "model.add(Flatten())\n",
    "\n",
    "# dense layer\n",
    "model.add(Dense(512, activation='relu'))\n",
    "# 50% dropout\n",
    "model.add(Dropout(0.5))\n",
    "model.add(Dense(num_classes, activation = 'softmax'))\n",
    "model.summary()"
   ]
  },
  {
   "cell_type": "markdown",
   "metadata": {},
   "source": [
    "### :: NOTE :: Detailed Comparison of both the CNN model architectures has been provided in the notebook named \"*Analysis and Experimentation*\""
   ]
  },
  {
   "cell_type": "markdown",
   "metadata": {},
   "source": [
    "Compile the model"
   ]
  },
  {
   "cell_type": "code",
   "execution_count": 189,
   "metadata": {
    "collapsed": true
   },
   "outputs": [],
   "source": [
    "model.compile(loss='categorical_crossentropy', optimizer=adam(lr=1e-3), metrics=['accuracy'])"
   ]
  },
  {
   "cell_type": "markdown",
   "metadata": {
    "_cell_guid": "b7fbf156-2268-62ce-5fed-52a09af5e6f7",
    "_uuid": "c73a1d3f6b651c5897598e97019ea08a2e9d3d88"
   },
   "source": [
    "Run the model"
   ]
  },
  {
   "cell_type": "code",
   "execution_count": 190,
   "metadata": {},
   "outputs": [
    {
     "name": "stdout",
     "output_type": "stream",
     "text": [
      "Train on 8013 samples, validate on 2671 samples\n",
      "Epoch 1/50\n",
      "8013/8013 [==============================] - 26s 3ms/step - loss: 1.4028 - acc: 0.2694 - val_loss: 1.3556 - val_acc: 0.3841\n",
      "Epoch 2/50\n",
      "8013/8013 [==============================] - 24s 3ms/step - loss: 1.2379 - acc: 0.3942 - val_loss: 1.2235 - val_acc: 0.4354\n",
      "Epoch 3/50\n",
      "8013/8013 [==============================] - 26s 3ms/step - loss: 1.1338 - acc: 0.4483 - val_loss: 1.1628 - val_acc: 0.4830\n",
      "Epoch 4/50\n",
      "8013/8013 [==============================] - 25s 3ms/step - loss: 1.0818 - acc: 0.4827 - val_loss: 1.1416 - val_acc: 0.4901\n",
      "Epoch 5/50\n",
      "8013/8013 [==============================] - 25s 3ms/step - loss: 1.0610 - acc: 0.4988 - val_loss: 1.1217 - val_acc: 0.5028\n",
      "Epoch 6/50\n",
      "8013/8013 [==============================] - 25s 3ms/step - loss: 1.0421 - acc: 0.4986 - val_loss: 1.0943 - val_acc: 0.5110\n",
      "Epoch 7/50\n",
      "8013/8013 [==============================] - 24s 3ms/step - loss: 1.0415 - acc: 0.4981 - val_loss: 1.0970 - val_acc: 0.5032\n",
      "Epoch 8/50\n",
      "8013/8013 [==============================] - 25s 3ms/step - loss: 1.0346 - acc: 0.5039 - val_loss: 1.1001 - val_acc: 0.5125\n",
      "Epoch 9/50\n",
      "8013/8013 [==============================] - 25s 3ms/step - loss: 1.0265 - acc: 0.5073 - val_loss: 1.0885 - val_acc: 0.5013\n",
      "Epoch 10/50\n",
      "8013/8013 [==============================] - 24s 3ms/step - loss: 1.0265 - acc: 0.5024 - val_loss: 1.0804 - val_acc: 0.5118\n",
      "Epoch 11/50\n",
      "8013/8013 [==============================] - 24s 3ms/step - loss: 1.0149 - acc: 0.5133 - val_loss: 1.0736 - val_acc: 0.5092\n",
      "Epoch 12/50\n",
      "8013/8013 [==============================] - 24s 3ms/step - loss: 1.0092 - acc: 0.5184 - val_loss: 1.0745 - val_acc: 0.5099\n",
      "Epoch 13/50\n",
      "8013/8013 [==============================] - 27s 3ms/step - loss: 1.0027 - acc: 0.5158 - val_loss: 1.0700 - val_acc: 0.5185\n",
      "Epoch 14/50\n",
      "8013/8013 [==============================] - 29s 4ms/step - loss: 0.9966 - acc: 0.5263 - val_loss: 1.0596 - val_acc: 0.5301\n",
      "Epoch 15/50\n",
      "8013/8013 [==============================] - 26s 3ms/step - loss: 0.9926 - acc: 0.5241 - val_loss: 1.0478 - val_acc: 0.5204\n",
      "Epoch 16/50\n",
      "8013/8013 [==============================] - 24s 3ms/step - loss: 0.9895 - acc: 0.5195 - val_loss: 1.0561 - val_acc: 0.5275\n",
      "Epoch 17/50\n",
      "8013/8013 [==============================] - 24s 3ms/step - loss: 0.9859 - acc: 0.5249 - val_loss: 1.0460 - val_acc: 0.5268\n",
      "Epoch 18/50\n",
      "8013/8013 [==============================] - 24s 3ms/step - loss: 0.9824 - acc: 0.5270 - val_loss: 1.0335 - val_acc: 0.5283\n",
      "Epoch 19/50\n",
      "8013/8013 [==============================] - 24s 3ms/step - loss: 0.9768 - acc: 0.5256 - val_loss: 1.0338 - val_acc: 0.5271\n",
      "Epoch 20/50\n",
      "8013/8013 [==============================] - 24s 3ms/step - loss: 0.9748 - acc: 0.5284 - val_loss: 1.0292 - val_acc: 0.5324\n",
      "Epoch 21/50\n",
      "8013/8013 [==============================] - 25s 3ms/step - loss: 0.9705 - acc: 0.5314 - val_loss: 1.0510 - val_acc: 0.5313\n",
      "Epoch 22/50\n",
      "8013/8013 [==============================] - 24s 3ms/step - loss: 0.9652 - acc: 0.5379 - val_loss: 1.0366 - val_acc: 0.5369\n",
      "Epoch 23/50\n",
      "8013/8013 [==============================] - 24s 3ms/step - loss: 0.9646 - acc: 0.5353 - val_loss: 1.0254 - val_acc: 0.5376\n",
      "Epoch 24/50\n",
      "8013/8013 [==============================] - 27s 3ms/step - loss: 0.9572 - acc: 0.5360 - val_loss: 1.0482 - val_acc: 0.5305\n",
      "Epoch 25/50\n",
      "8013/8013 [==============================] - 26s 3ms/step - loss: 0.9587 - acc: 0.5373 - val_loss: 1.0269 - val_acc: 0.5346\n",
      "Epoch 26/50\n",
      "8013/8013 [==============================] - 28s 3ms/step - loss: 0.9491 - acc: 0.5406 - val_loss: 1.0239 - val_acc: 0.5309\n",
      "Epoch 27/50\n",
      "8013/8013 [==============================] - 26s 3ms/step - loss: 0.9475 - acc: 0.5510 - val_loss: 1.0248 - val_acc: 0.5324\n",
      "Epoch 28/50\n",
      "8013/8013 [==============================] - 25s 3ms/step - loss: 0.9404 - acc: 0.5450 - val_loss: 1.0122 - val_acc: 0.5256\n",
      "Epoch 29/50\n",
      "8013/8013 [==============================] - 25s 3ms/step - loss: 0.9412 - acc: 0.5385 - val_loss: 1.0093 - val_acc: 0.5283\n",
      "Epoch 30/50\n",
      "8013/8013 [==============================] - 25s 3ms/step - loss: 0.9339 - acc: 0.5462 - val_loss: 1.0095 - val_acc: 0.5350\n",
      "Epoch 31/50\n",
      "8013/8013 [==============================] - 26s 3ms/step - loss: 0.9246 - acc: 0.5476 - val_loss: 1.0069 - val_acc: 0.5238\n",
      "Epoch 32/50\n",
      "8013/8013 [==============================] - 27s 3ms/step - loss: 0.9315 - acc: 0.5484 - val_loss: 1.0073 - val_acc: 0.5290\n",
      "Epoch 33/50\n",
      "8013/8013 [==============================] - 27s 3ms/step - loss: 0.9306 - acc: 0.5524 - val_loss: 1.0159 - val_acc: 0.5305\n",
      "Epoch 34/50\n",
      "8013/8013 [==============================] - 28s 3ms/step - loss: 0.9225 - acc: 0.5534 - val_loss: 1.0141 - val_acc: 0.5290\n",
      "Epoch 35/50\n",
      "8013/8013 [==============================] - 27s 3ms/step - loss: 0.9179 - acc: 0.5535 - val_loss: 1.0061 - val_acc: 0.5238\n",
      "Epoch 36/50\n",
      "8013/8013 [==============================] - 29s 4ms/step - loss: 0.9182 - acc: 0.5470 - val_loss: 0.9952 - val_acc: 0.5387\n",
      "Epoch 37/50\n",
      "8013/8013 [==============================] - 27s 3ms/step - loss: 0.9157 - acc: 0.5550 - val_loss: 1.0111 - val_acc: 0.5238\n",
      "Epoch 38/50\n",
      "8013/8013 [==============================] - 30s 4ms/step - loss: 0.9127 - acc: 0.5499 - val_loss: 0.9920 - val_acc: 0.5294\n",
      "Epoch 39/50\n",
      "8013/8013 [==============================] - 26s 3ms/step - loss: 0.9088 - acc: 0.5511 - val_loss: 0.9954 - val_acc: 0.5384\n",
      "Epoch 40/50\n",
      "8013/8013 [==============================] - 26s 3ms/step - loss: 0.9049 - acc: 0.5623 - val_loss: 0.9952 - val_acc: 0.5309\n",
      "Epoch 41/50\n",
      "8013/8013 [==============================] - 27s 3ms/step - loss: 0.9066 - acc: 0.5608 - val_loss: 0.9935 - val_acc: 0.5447\n",
      "Epoch 42/50\n",
      "8013/8013 [==============================] - 27s 3ms/step - loss: 0.8967 - acc: 0.5630 - val_loss: 1.0085 - val_acc: 0.5238\n",
      "Epoch 43/50\n",
      "8013/8013 [==============================] - 26s 3ms/step - loss: 0.9028 - acc: 0.5601 - val_loss: 0.9988 - val_acc: 0.5328\n",
      "Epoch 44/50\n",
      "8013/8013 [==============================] - 28s 3ms/step - loss: 0.8955 - acc: 0.5646 - val_loss: 0.9881 - val_acc: 0.5369\n",
      "Epoch 45/50\n",
      "8013/8013 [==============================] - 29s 4ms/step - loss: 0.8915 - acc: 0.5672 - val_loss: 1.0006 - val_acc: 0.5260\n",
      "Epoch 46/50\n",
      "8013/8013 [==============================] - 27s 3ms/step - loss: 0.8853 - acc: 0.5670 - val_loss: 0.9857 - val_acc: 0.5365\n",
      "Epoch 47/50\n",
      "8013/8013 [==============================] - 27s 3ms/step - loss: 0.8892 - acc: 0.5692 - val_loss: 0.9982 - val_acc: 0.5268\n",
      "Epoch 48/50\n",
      "8013/8013 [==============================] - 26s 3ms/step - loss: 0.8834 - acc: 0.5694 - val_loss: 1.0027 - val_acc: 0.5283\n",
      "Epoch 49/50\n",
      "8013/8013 [==============================] - 26s 3ms/step - loss: 0.8924 - acc: 0.5628 - val_loss: 0.9876 - val_acc: 0.5313\n",
      "Epoch 50/50\n",
      "8013/8013 [==============================] - 26s 3ms/step - loss: 0.8830 - acc: 0.5685 - val_loss: 0.9988 - val_acc: 0.5249\n"
     ]
    }
   ],
   "source": [
    "epochs = 50\n",
    "batch_size = 128\n",
    "start_time = time.time()\n",
    "history = model.fit(train_rus, train_labels_rus_wide, batch_size=batch_size, epochs=epochs, validation_split=0.25, verbose=1, shuffle=True)\n",
    "end_time = time.time()"
   ]
  },
  {
   "cell_type": "markdown",
   "metadata": {},
   "source": [
    "Print the time taken to train the model"
   ]
  },
  {
   "cell_type": "code",
   "execution_count": 116,
   "metadata": {},
   "outputs": [
    {
     "name": "stdout",
     "output_type": "stream",
     "text": [
      "The time taken to train the CNN model with 50 percent dataset containing 84x84 dimension images is : 1271.88 seconds\n"
     ]
    }
   ],
   "source": [
    "print(\"The time taken to train the CNN model with 50 percent dataset containing 84x84 dimension images is : %.2f seconds\" % (end_time - start_time))"
   ]
  },
  {
   "cell_type": "markdown",
   "metadata": {},
   "source": [
    "Plot the evolution of the loss and accuracy as the model was trained."
   ]
  },
  {
   "cell_type": "code",
   "execution_count": 191,
   "metadata": {},
   "outputs": [
    {
     "data": {
      "image/png": "[encoded data removed]",
      "text/plain": [
       "<matplotlib.figure.Figure at 0x174a94cf8>"
      ]
     },
     "metadata": {},
     "output_type": "display_data"
    },
    {
     "data": {
      "image/png": "[encoded data removed]",
      "text/plain": [
       "<matplotlib.figure.Figure at 0x145ac9a58>"
      ]
     },
     "metadata": {},
     "output_type": "display_data"
    }
   ],
   "source": [
    "loss = history.history['loss']\n",
    "val_loss = history.history['val_loss']\n",
    "\n",
    "plt.xlabel('Epochs')\n",
    "plt.ylabel('Loss')\n",
    "plt.plot(loss, 'blue', label='Training Loss')\n",
    "plt.plot(val_loss, 'green', label='Validation Loss')\n",
    "plt.xticks(range(0,epochs)[0::2])\n",
    "plt.legend()\n",
    "plt.show()\n",
    "\n",
    "acc = history.history['acc']\n",
    "val_acc = history.history['val_acc']\n",
    "plt.xlabel('Epochs')\n",
    "plt.ylabel('Accuracy')\n",
    "plt.plot(acc, 'blue', label='Training accuracy')\n",
    "plt.plot(val_acc, 'green', label='Validation accuracy')\n",
    "plt.xticks(range(0,50)[0::2])\n",
    "plt.legend()\n",
    "plt.show()"
   ]
  },
  {
   "cell_type": "markdown",
   "metadata": {},
   "source": [
    "We observe that the training loss starts decreasing at a higher rate than the validation loss. The validation loss becomes stable after ~35 epochs, and that is when the model has found the minimum loss and becomes stable after that. Overall validation accuracy is ~50%. The training and validation accuracy are moslty aligned together, proving that there is no overfitting present in the model."
   ]
  },
  {
   "cell_type": "markdown",
   "metadata": {},
   "source": [
    "### Evaluation experiment on the Model\n",
    "Use the test dataset to evaluate the model"
   ]
  },
  {
   "cell_type": "code",
   "execution_count": 120,
   "metadata": {},
   "outputs": [
    {
     "name": "stdout",
     "output_type": "stream",
     "text": [
      "****** Test Data ********\n",
      "Accuracy of the CNN model on the test set is : 0.440\n",
      "\n",
      "Classification report of CNN : \n",
      "              precision    recall  f1-score   support\n",
      "\n",
      "          0       0.45      0.45      0.45      2420\n",
      "          1       0.61      0.59      0.60       674\n",
      "          2       0.50      0.32      0.39      2678\n",
      "          3       0.30      0.75      0.43       661\n",
      "\n",
      "avg / total       0.47      0.44      0.44      6433\n",
      "\n",
      "************* Confusion Matrix ********** \n"
     ]
    },
    {
     "data": {
      "text/html": [
       "<div>\n",
       "<style>\n",
       "    .dataframe thead tr:only-child th {\n",
       "        text-align: right;\n",
       "    }\n",
       "\n",
       "    .dataframe thead th {\n",
       "        text-align: left;\n",
       "    }\n",
       "\n",
       "    .dataframe tbody tr th {\n",
       "        vertical-align: top;\n",
       "    }\n",
       "</style>\n",
       "<table border=\"1\" class=\"dataframe\">\n",
       "  <thead>\n",
       "    <tr style=\"text-align: right;\">\n",
       "      <th>Predicted</th>\n",
       "      <th>0</th>\n",
       "      <th>1</th>\n",
       "      <th>2</th>\n",
       "      <th>3</th>\n",
       "      <th>All</th>\n",
       "    </tr>\n",
       "    <tr>\n",
       "      <th>True</th>\n",
       "      <th></th>\n",
       "      <th></th>\n",
       "      <th></th>\n",
       "      <th></th>\n",
       "      <th></th>\n",
       "    </tr>\n",
       "  </thead>\n",
       "  <tbody>\n",
       "    <tr>\n",
       "      <th>0</th>\n",
       "      <td>1082</td>\n",
       "      <td>123</td>\n",
       "      <td>686</td>\n",
       "      <td>529</td>\n",
       "      <td>2420</td>\n",
       "    </tr>\n",
       "    <tr>\n",
       "      <th>1</th>\n",
       "      <td>143</td>\n",
       "      <td>400</td>\n",
       "      <td>114</td>\n",
       "      <td>17</td>\n",
       "      <td>674</td>\n",
       "    </tr>\n",
       "    <tr>\n",
       "      <th>2</th>\n",
       "      <td>1067</td>\n",
       "      <td>132</td>\n",
       "      <td>850</td>\n",
       "      <td>629</td>\n",
       "      <td>2678</td>\n",
       "    </tr>\n",
       "    <tr>\n",
       "      <th>3</th>\n",
       "      <td>102</td>\n",
       "      <td>1</td>\n",
       "      <td>61</td>\n",
       "      <td>497</td>\n",
       "      <td>661</td>\n",
       "    </tr>\n",
       "    <tr>\n",
       "      <th>All</th>\n",
       "      <td>2394</td>\n",
       "      <td>656</td>\n",
       "      <td>1711</td>\n",
       "      <td>1672</td>\n",
       "      <td>6433</td>\n",
       "    </tr>\n",
       "  </tbody>\n",
       "</table>\n",
       "</div>"
      ],
      "text/plain": [
       "Predicted     0    1     2     3   All\n",
       "True                                  \n",
       "0          1082  123   686   529  2420\n",
       "1           143  400   114    17   674\n",
       "2          1067  132   850   629  2678\n",
       "3           102    1    61   497   661\n",
       "All        2394  656  1711  1672  6433"
      ]
     },
     "execution_count": 120,
     "metadata": {},
     "output_type": "execute_result"
    }
   ],
   "source": [
    "print(\"****** Test Data ********\")\n",
    "# Make a set of predictions for the validation data\n",
    "y_pred = model.predict_classes(test)\n",
    "print(\"Accuracy of the CNN model on the test set is : %.3f\\n\" % accuracy_score(y_pred, test_labels))\n",
    "\n",
    "# Print performance details\n",
    "print(\"Classification report of CNN : \\n\", metrics.classification_report(test_labels, y_pred))\n",
    "\n",
    "# Print confusion matrix\n",
    "print(\"************* Confusion Matrix ********** \")\n",
    "pd.crosstab(np.array(test_labels), y_pred, rownames=['True'], colnames=['Predicted'], margins=True)"
   ]
  },
  {
   "cell_type": "markdown",
   "metadata": {},
   "source": [
    "### Persist the Model\n",
    "####  Since we observe that highest accuracy and lowest loss is in the Second CNN model, we  persist the model for future use, without having to retrain it.\n",
    "Save the model"
   ]
  },
  {
   "cell_type": "code",
   "execution_count": 119,
   "metadata": {
    "collapsed": true
   },
   "outputs": [],
   "source": [
    "filepath = \"player_images_2.mod\"\n",
    "model.save(filepath)"
   ]
  }
 ],
 "metadata": {
  "_change_revision": 0,
  "_is_fork": false,
  "kernelspec": {
   "display_name": "Python 3",
   "language": "python",
   "name": "python3"
  },
  "language_info": {
   "codemirror_mode": {
    "name": "ipython",
    "version": 3
   },
   "file_extension": ".py",
   "mimetype": "text/x-python",
   "name": "python",
   "nbconvert_exporter": "python",
   "pygments_lexer": "ipython3",
   "version": "3.6.1"
  }
 },
 "nbformat": 4,
 "nbformat_minor": 1
}
