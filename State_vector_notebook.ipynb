{
 "cells": [
  {
   "cell_type": "markdown",
   "metadata": {},
   "source": [
    "#  TASK 1\n",
    "## State-based learning notebook\n",
    "### Bhavesh Kumar [16203173], Jeet Banerjeee [17200844]"
   ]
  },
  {
   "cell_type": "markdown",
   "metadata": {},
   "source": [
    "# Import packages etc"
   ]
  },
  {
   "cell_type": "code",
   "execution_count": 40,
   "metadata": {
    "collapsed": true
   },
   "outputs": [],
   "source": [
    "from IPython.display import display, HTML, Image\n",
    "\n",
    "import pandas as pd\n",
    "import numpy as np\n",
    "from imblearn.under_sampling import RandomUnderSampler\n",
    "import pickle\n",
    "import matplotlib.pyplot as plt\n",
    "from superlearner import SuperLearnerClassifier # Import SuperLearner\n",
    "from sklearn.ensemble import RandomForestClassifier\n",
    "from sklearn.model_selection import train_test_split\n",
    "from sklearn import metrics\n",
    "import time"
   ]
  },
  {
   "cell_type": "markdown",
   "metadata": {},
   "source": [
    "## Try Random Forest Classifier on the dataset"
   ]
  },
  {
   "cell_type": "code",
   "execution_count": 92,
   "metadata": {
    "collapsed": true
   },
   "outputs": [],
   "source": [
    "dataset = pd.read_csv(\"state_vectors.csv\")\n",
    "X = dataset[dataset.columns[1:-1]].values # Get Features\n",
    "y = np.array(dataset[\"action\"]) #Get labels"
   ]
  },
  {
   "cell_type": "code",
   "execution_count": 93,
   "metadata": {
    "collapsed": true
   },
   "outputs": [],
   "source": [
    "# Split the dataset into 75% train, 25% test set\n",
    "X_train, X_test , y_train, y_test = train_test_split(X, y, test_size = 0.25)"
   ]
  },
  {
   "cell_type": "code",
   "execution_count": 101,
   "metadata": {},
   "outputs": [
    {
     "name": "stdout",
     "output_type": "stream",
     "text": [
      "Accuracy of Random forest is : 0.881421164795318\n",
      "Classification report of Random forest : \n",
      "              precision    recall  f1-score   support\n",
      "\n",
      "          0       0.93      0.87      0.90     29391\n",
      "          1       0.90      0.45      0.60      2212\n",
      "          2       0.84      0.96      0.90     29091\n",
      "          3       0.89      0.44      0.59      2184\n",
      "\n",
      "avg / total       0.89      0.88      0.88     62878\n",
      "\n"
     ]
    },
    {
     "data": {
      "text/html": [
       "<div>\n",
       "<style>\n",
       "    .dataframe thead tr:only-child th {\n",
       "        text-align: right;\n",
       "    }\n",
       "\n",
       "    .dataframe thead th {\n",
       "        text-align: left;\n",
       "    }\n",
       "\n",
       "    .dataframe tbody tr th {\n",
       "        vertical-align: top;\n",
       "    }\n",
       "</style>\n",
       "<table border=\"1\" class=\"dataframe\">\n",
       "  <thead>\n",
       "    <tr style=\"text-align: right;\">\n",
       "      <th>Predicted</th>\n",
       "      <th>0</th>\n",
       "      <th>1</th>\n",
       "      <th>2</th>\n",
       "      <th>3</th>\n",
       "      <th>All</th>\n",
       "    </tr>\n",
       "    <tr>\n",
       "      <th>True</th>\n",
       "      <th></th>\n",
       "      <th></th>\n",
       "      <th></th>\n",
       "      <th></th>\n",
       "      <th></th>\n",
       "    </tr>\n",
       "  </thead>\n",
       "  <tbody>\n",
       "    <tr>\n",
       "      <th>0</th>\n",
       "      <td>25571</td>\n",
       "      <td>47</td>\n",
       "      <td>3728</td>\n",
       "      <td>45</td>\n",
       "      <td>29391</td>\n",
       "    </tr>\n",
       "    <tr>\n",
       "      <th>1</th>\n",
       "      <td>481</td>\n",
       "      <td>1003</td>\n",
       "      <td>728</td>\n",
       "      <td>0</td>\n",
       "      <td>2212</td>\n",
       "    </tr>\n",
       "    <tr>\n",
       "      <th>2</th>\n",
       "      <td>1062</td>\n",
       "      <td>64</td>\n",
       "      <td>27895</td>\n",
       "      <td>70</td>\n",
       "      <td>29091</td>\n",
       "    </tr>\n",
       "    <tr>\n",
       "      <th>3</th>\n",
       "      <td>496</td>\n",
       "      <td>0</td>\n",
       "      <td>735</td>\n",
       "      <td>953</td>\n",
       "      <td>2184</td>\n",
       "    </tr>\n",
       "    <tr>\n",
       "      <th>All</th>\n",
       "      <td>27610</td>\n",
       "      <td>1114</td>\n",
       "      <td>33086</td>\n",
       "      <td>1068</td>\n",
       "      <td>62878</td>\n",
       "    </tr>\n",
       "  </tbody>\n",
       "</table>\n",
       "</div>"
      ],
      "text/plain": [
       "Predicted      0     1      2     3    All\n",
       "True                                      \n",
       "0          25571    47   3728    45  29391\n",
       "1            481  1003    728     0   2212\n",
       "2           1062    64  27895    70  29091\n",
       "3            496     0    735   953   2184\n",
       "All        27610  1114  33086  1068  62878"
      ]
     },
     "execution_count": 101,
     "metadata": {},
     "output_type": "execute_result"
    }
   ],
   "source": [
    "# Output: Accuracy of Random forest is : 0.8863\n",
    "\n",
    "# Selecting sensible hyper-parameters for random forest classifier\n",
    "rf_model = RandomForestClassifier(min_samples_split=10, criterion='gini')\n",
    "rf_model.fit(X_train, y_train)\n",
    "\n",
    "# Testing on the test set\n",
    "y_pred = rf_model.predict(X_test)\n",
    "print(\"Accuracy of Random forest is :\", metrics.accuracy_score(y_test, y_pred))\n",
    "print(\"Classification report of Random forest : \\n\",metrics.classification_report(y_test, y_pred))\n",
    "# Confusion matrix\n",
    "pd.crosstab(np.array(y_test), y_pred, rownames=['True'], colnames=['Predicted'], margins=True)"
   ]
  },
  {
   "cell_type": "markdown",
   "metadata": {},
   "source": [
    "## SuperLearner classifier"
   ]
  },
  {
   "cell_type": "code",
   "execution_count": 26,
   "metadata": {},
   "outputs": [
    {
     "name": "stdout",
     "output_type": "stream",
     "text": [
      "Fitting Superlearner---\n",
      "Accuracy of SuperLearner is : 0.8139904610492846\n",
      "Classification report of SuperLearner : \n",
      "              precision    recall  f1-score   support\n",
      "\n",
      "          0       0.88      0.78      0.82       287\n",
      "          1       0.83      0.38      0.53        26\n",
      "          2       0.77      0.93      0.84       288\n",
      "          3       0.83      0.36      0.50        28\n",
      "\n",
      "avg / total       0.82      0.81      0.81       629\n",
      "\n"
     ]
    },
    {
     "data": {
      "text/html": [
       "<div>\n",
       "<style>\n",
       "    .dataframe thead tr:only-child th {\n",
       "        text-align: right;\n",
       "    }\n",
       "\n",
       "    .dataframe thead th {\n",
       "        text-align: left;\n",
       "    }\n",
       "\n",
       "    .dataframe tbody tr th {\n",
       "        vertical-align: top;\n",
       "    }\n",
       "</style>\n",
       "<table border=\"1\" class=\"dataframe\">\n",
       "  <thead>\n",
       "    <tr style=\"text-align: right;\">\n",
       "      <th>Predicted</th>\n",
       "      <th>0</th>\n",
       "      <th>1</th>\n",
       "      <th>2</th>\n",
       "      <th>3</th>\n",
       "      <th>All</th>\n",
       "    </tr>\n",
       "    <tr>\n",
       "      <th>True</th>\n",
       "      <th></th>\n",
       "      <th></th>\n",
       "      <th></th>\n",
       "      <th></th>\n",
       "      <th></th>\n",
       "    </tr>\n",
       "  </thead>\n",
       "  <tbody>\n",
       "    <tr>\n",
       "      <th>0</th>\n",
       "      <td>223</td>\n",
       "      <td>2</td>\n",
       "      <td>60</td>\n",
       "      <td>2</td>\n",
       "      <td>287</td>\n",
       "    </tr>\n",
       "    <tr>\n",
       "      <th>1</th>\n",
       "      <td>5</td>\n",
       "      <td>10</td>\n",
       "      <td>11</td>\n",
       "      <td>0</td>\n",
       "      <td>26</td>\n",
       "    </tr>\n",
       "    <tr>\n",
       "      <th>2</th>\n",
       "      <td>19</td>\n",
       "      <td>0</td>\n",
       "      <td>269</td>\n",
       "      <td>0</td>\n",
       "      <td>288</td>\n",
       "    </tr>\n",
       "    <tr>\n",
       "      <th>3</th>\n",
       "      <td>7</td>\n",
       "      <td>0</td>\n",
       "      <td>11</td>\n",
       "      <td>10</td>\n",
       "      <td>28</td>\n",
       "    </tr>\n",
       "    <tr>\n",
       "      <th>All</th>\n",
       "      <td>254</td>\n",
       "      <td>12</td>\n",
       "      <td>351</td>\n",
       "      <td>12</td>\n",
       "      <td>629</td>\n",
       "    </tr>\n",
       "  </tbody>\n",
       "</table>\n",
       "</div>"
      ],
      "text/plain": [
       "Predicted    0   1    2   3  All\n",
       "True                            \n",
       "0          223   2   60   2  287\n",
       "1            5  10   11   0   26\n",
       "2           19   0  269   0  288\n",
       "3            7   0   11  10   28\n",
       "All        254  12  351  12  629"
      ]
     },
     "execution_count": 26,
     "metadata": {},
     "output_type": "execute_result"
    }
   ],
   "source": [
    "# output : Accuracy of SuperLearner is : 0.81399\n",
    "dataset = pd.read_csv(\"state_vectors.csv\")\n",
    "# dataset = dataset.sample(frac=0.5)\n",
    "X = dataset[dataset.columns[1:-1]].values\n",
    "y = np.array(dataset[\"action\"])\n",
    "X_train, X_test , y_train, y_test = train_test_split(X, y, test_size = 0.25)\n",
    "superLearner_model = SuperLearnerClassifier() # Calling the default SuperLearner constructor with default parameters\n",
    "print(\"Fitting Superlearner---\")\n",
    "superLearner_model.fit(X_train, y_train)\n",
    "\n",
    "# Testing on the test set\n",
    "y_pred = superLearner_model.predict(X_test)\n",
    "print(\"Accuracy of SuperLearner is :\", metrics.accuracy_score(y_test, y_pred))\n",
    "print(\"Classification report of SuperLearner : \\n\", metrics.classification_report(y_test, y_pred))\n",
    "# Confusion matrix\n",
    "pd.crosstab(np.array(y_test), y_pred, rownames=['True'], colnames=['Predicted'], margins=True)"
   ]
  },
  {
   "cell_type": "markdown",
   "metadata": {},
   "source": [
    "## Keras based Artificial Neural Network model using Dense and Activation layers"
   ]
  },
  {
   "cell_type": "code",
   "execution_count": 44,
   "metadata": {
    "collapsed": true
   },
   "outputs": [],
   "source": [
    "# Import Keras libraries\n",
    "from keras.models import Sequential\n",
    "from keras.layers import Dense, Flatten, Activation\n",
    "from keras.optimizers import Adam\n",
    "import keras\n",
    "from keras.utils import to_categorical"
   ]
  },
  {
   "cell_type": "markdown",
   "metadata": {},
   "source": [
    "Read the state vectors file, and split into input (X) and output (Y) variables"
   ]
  },
  {
   "cell_type": "code",
   "execution_count": 45,
   "metadata": {
    "collapsed": true
   },
   "outputs": [],
   "source": [
    "dataset = pd.read_csv(\"state_vectors.csv\")\n",
    "X = dataset[dataset.columns[1:-1]].values\n",
    "y = np.array(dataset[\"action\"])"
   ]
  },
  {
   "cell_type": "markdown",
   "metadata": {},
   "source": [
    "Split the data into 80% training and 20% test set"
   ]
  },
  {
   "cell_type": "code",
   "execution_count": 46,
   "metadata": {
    "collapsed": true
   },
   "outputs": [],
   "source": [
    "X_train, X_test, y_train, y_test = train_test_split(X, y, random_state=0, test_size = 0.2, train_size = 0.8)"
   ]
  },
  {
   "cell_type": "markdown",
   "metadata": {},
   "source": [
    "Use One-Hot Encoding to convert the numeric labels to categorical"
   ]
  },
  {
   "cell_type": "code",
   "execution_count": 47,
   "metadata": {
    "collapsed": true
   },
   "outputs": [],
   "source": [
    "y_wide = to_categorical(y_train)"
   ]
  },
  {
   "cell_type": "markdown",
   "metadata": {},
   "source": [
    "Initialise Sequential model, add Dense and activation layers"
   ]
  },
  {
   "cell_type": "code",
   "execution_count": 48,
   "metadata": {
    "collapsed": true,
    "scrolled": false
   },
   "outputs": [],
   "source": [
    "# output : loss: 0.1642 - acc: 0.9427 - val_loss: 0.1626 - val_acc: 0.9440\n",
    "ann_model = Sequential()\n",
    "ann_model.add(Dense(units = 6, activation='relu', input_dim=X.shape[1])) # Input Layer \n",
    "ann_model.add(Dense(units = 6, activation = 'relu')) # Hidden Layer \n",
    "ann_model.add(Dense(units = 4, activation = 'softmax')) # output Layer "
   ]
  },
  {
   "cell_type": "markdown",
   "metadata": {},
   "source": [
    "Compile the model"
   ]
  },
  {
   "cell_type": "code",
   "execution_count": 49,
   "metadata": {
    "collapsed": true
   },
   "outputs": [],
   "source": [
    "ann_model.compile(optimizer='rmsprop', loss='categorical_crossentropy', metrics=['accuracy'])"
   ]
  },
  {
   "cell_type": "markdown",
   "metadata": {},
   "source": [
    "Run the model"
   ]
  },
  {
   "cell_type": "code",
   "execution_count": 50,
   "metadata": {},
   "outputs": [
    {
     "name": "stdout",
     "output_type": "stream",
     "text": [
      "Train on 150906 samples, validate on 50303 samples\n",
      "Epoch 1/50\n",
      "150906/150906 [==============================] - 2s 11us/step - loss: 0.8626 - acc: 0.6299 - val_loss: 0.6906 - val_acc: 0.7315\n",
      "Epoch 2/50\n",
      "150906/150906 [==============================] - 1s 10us/step - loss: 0.6716 - acc: 0.7319 - val_loss: 0.6547 - val_acc: 0.7369\n",
      "Epoch 3/50\n",
      "150906/150906 [==============================] - 1s 10us/step - loss: 0.6509 - acc: 0.7341 - val_loss: 0.6417 - val_acc: 0.7379\n",
      "Epoch 4/50\n",
      "150906/150906 [==============================] - 2s 10us/step - loss: 0.6342 - acc: 0.7407 - val_loss: 0.6159 - val_acc: 0.7512\n",
      "Epoch 5/50\n",
      "150906/150906 [==============================] - 2s 10us/step - loss: 0.5955 - acc: 0.7625 - val_loss: 0.5703 - val_acc: 0.7787\n",
      "Epoch 6/50\n",
      "150906/150906 [==============================] - 2s 11us/step - loss: 0.5531 - acc: 0.7878 - val_loss: 0.5302 - val_acc: 0.7921\n",
      "Epoch 7/50\n",
      "150906/150906 [==============================] - 1s 9us/step - loss: 0.5130 - acc: 0.8072 - val_loss: 0.4907 - val_acc: 0.8290\n",
      "Epoch 8/50\n",
      "150906/150906 [==============================] - 1s 10us/step - loss: 0.4781 - acc: 0.8238 - val_loss: 0.4615 - val_acc: 0.8538\n",
      "Epoch 9/50\n",
      "150906/150906 [==============================] - 1s 9us/step - loss: 0.4489 - acc: 0.8391 - val_loss: 0.4315 - val_acc: 0.8566\n",
      "Epoch 10/50\n",
      "150906/150906 [==============================] - 1s 9us/step - loss: 0.4217 - acc: 0.8519 - val_loss: 0.4024 - val_acc: 0.8548\n",
      "Epoch 11/50\n",
      "150906/150906 [==============================] - 2s 10us/step - loss: 0.3966 - acc: 0.8642 - val_loss: 0.3788 - val_acc: 0.8775\n",
      "Epoch 12/50\n",
      "150906/150906 [==============================] - 1s 9us/step - loss: 0.3699 - acc: 0.8753 - val_loss: 0.3497 - val_acc: 0.8789\n",
      "Epoch 13/50\n",
      "150906/150906 [==============================] - 1s 9us/step - loss: 0.3408 - acc: 0.8867 - val_loss: 0.3230 - val_acc: 0.8958\n",
      "Epoch 14/50\n",
      "150906/150906 [==============================] - 1s 9us/step - loss: 0.3159 - acc: 0.8969 - val_loss: 0.3012 - val_acc: 0.9042\n",
      "Epoch 15/50\n",
      "150906/150906 [==============================] - 1s 9us/step - loss: 0.2967 - acc: 0.9042 - val_loss: 0.2844 - val_acc: 0.9101\n",
      "Epoch 16/50\n",
      "150906/150906 [==============================] - 2s 10us/step - loss: 0.2801 - acc: 0.9097 - val_loss: 0.2677 - val_acc: 0.9131\n",
      "Epoch 17/50\n",
      "150906/150906 [==============================] - 2s 11us/step - loss: 0.2669 - acc: 0.9143 - val_loss: 0.2580 - val_acc: 0.9188\n",
      "Epoch 18/50\n",
      "150906/150906 [==============================] - 2s 11us/step - loss: 0.2570 - acc: 0.9172 - val_loss: 0.2495 - val_acc: 0.9213\n",
      "Epoch 19/50\n",
      "150906/150906 [==============================] - 2s 10us/step - loss: 0.2487 - acc: 0.9197 - val_loss: 0.2472 - val_acc: 0.9220\n",
      "Epoch 20/50\n",
      "150906/150906 [==============================] - 1s 10us/step - loss: 0.2391 - acc: 0.9242 - val_loss: 0.2325 - val_acc: 0.9294\n",
      "Epoch 21/50\n",
      "150906/150906 [==============================] - 1s 9us/step - loss: 0.2292 - acc: 0.9284 - val_loss: 0.2231 - val_acc: 0.9323\n",
      "Epoch 22/50\n",
      "150906/150906 [==============================] - 1s 9us/step - loss: 0.2222 - acc: 0.9306 - val_loss: 0.2175 - val_acc: 0.9357\n",
      "Epoch 23/50\n",
      "150906/150906 [==============================] - 2s 10us/step - loss: 0.2160 - acc: 0.9327 - val_loss: 0.2111 - val_acc: 0.9380\n",
      "Epoch 24/50\n",
      "150906/150906 [==============================] - 2s 10us/step - loss: 0.2107 - acc: 0.9342 - val_loss: 0.2080 - val_acc: 0.9368\n",
      "Epoch 25/50\n",
      "150906/150906 [==============================] - 2s 10us/step - loss: 0.2061 - acc: 0.9354 - val_loss: 0.2045 - val_acc: 0.9316\n",
      "Epoch 26/50\n",
      "150906/150906 [==============================] - 2s 11us/step - loss: 0.2022 - acc: 0.9366 - val_loss: 0.1992 - val_acc: 0.9398\n",
      "Epoch 27/50\n",
      "150906/150906 [==============================] - 2s 11us/step - loss: 0.1983 - acc: 0.9374 - val_loss: 0.1974 - val_acc: 0.9399\n",
      "Epoch 28/50\n",
      "150906/150906 [==============================] - 2s 10us/step - loss: 0.1951 - acc: 0.9382 - val_loss: 0.1976 - val_acc: 0.9284\n",
      "Epoch 29/50\n",
      "150906/150906 [==============================] - 1s 9us/step - loss: 0.1925 - acc: 0.9385 - val_loss: 0.1914 - val_acc: 0.9376\n",
      "Epoch 30/50\n",
      "150906/150906 [==============================] - 1s 9us/step - loss: 0.1901 - acc: 0.9391 - val_loss: 0.1878 - val_acc: 0.9441\n",
      "Epoch 31/50\n",
      "150906/150906 [==============================] - 1s 9us/step - loss: 0.1876 - acc: 0.9400 - val_loss: 0.1863 - val_acc: 0.9405\n",
      "Epoch 32/50\n",
      "150906/150906 [==============================] - 1s 9us/step - loss: 0.1858 - acc: 0.9402 - val_loss: 0.1861 - val_acc: 0.9412\n",
      "Epoch 33/50\n",
      "150906/150906 [==============================] - 1s 9us/step - loss: 0.1842 - acc: 0.9403 - val_loss: 0.1819 - val_acc: 0.9403\n",
      "Epoch 34/50\n",
      "150906/150906 [==============================] - 1s 10us/step - loss: 0.1824 - acc: 0.9404 - val_loss: 0.1796 - val_acc: 0.9430\n",
      "Epoch 35/50\n",
      "150906/150906 [==============================] - 1s 10us/step - loss: 0.1808 - acc: 0.9408 - val_loss: 0.1810 - val_acc: 0.9400\n",
      "Epoch 36/50\n",
      "150906/150906 [==============================] - 1s 9us/step - loss: 0.1794 - acc: 0.9409 - val_loss: 0.1773 - val_acc: 0.9431\n",
      "Epoch 37/50\n",
      "150906/150906 [==============================] - 1s 9us/step - loss: 0.1784 - acc: 0.9411 - val_loss: 0.1766 - val_acc: 0.9431\n",
      "Epoch 38/50\n",
      "150906/150906 [==============================] - 1s 9us/step - loss: 0.1767 - acc: 0.9410 - val_loss: 0.1788 - val_acc: 0.9324\n",
      "Epoch 39/50\n",
      "150906/150906 [==============================] - 1s 9us/step - loss: 0.1757 - acc: 0.9407 - val_loss: 0.1737 - val_acc: 0.9431\n",
      "Epoch 40/50\n",
      "150906/150906 [==============================] - 1s 10us/step - loss: 0.1744 - acc: 0.9411 - val_loss: 0.1745 - val_acc: 0.9433\n",
      "Epoch 41/50\n",
      "150906/150906 [==============================] - 1s 9us/step - loss: 0.1731 - acc: 0.9408 - val_loss: 0.1795 - val_acc: 0.9323\n",
      "Epoch 42/50\n",
      "150906/150906 [==============================] - 1s 9us/step - loss: 0.1720 - acc: 0.9415 - val_loss: 0.1692 - val_acc: 0.9442\n",
      "Epoch 43/50\n",
      "150906/150906 [==============================] - 1s 10us/step - loss: 0.1710 - acc: 0.9414 - val_loss: 0.1679 - val_acc: 0.9443\n",
      "Epoch 44/50\n",
      "150906/150906 [==============================] - 1s 9us/step - loss: 0.1697 - acc: 0.9418 - val_loss: 0.1694 - val_acc: 0.9414\n",
      "Epoch 45/50\n",
      "150906/150906 [==============================] - 1s 9us/step - loss: 0.1686 - acc: 0.9421 - val_loss: 0.1662 - val_acc: 0.9453\n",
      "Epoch 46/50\n",
      "150906/150906 [==============================] - 1s 9us/step - loss: 0.1679 - acc: 0.9415 - val_loss: 0.1742 - val_acc: 0.9318\n",
      "Epoch 47/50\n",
      "150906/150906 [==============================] - 1s 9us/step - loss: 0.1669 - acc: 0.9416 - val_loss: 0.1648 - val_acc: 0.9433\n",
      "Epoch 48/50\n",
      "150906/150906 [==============================] - 1s 9us/step - loss: 0.1663 - acc: 0.9420 - val_loss: 0.1644 - val_acc: 0.9439\n",
      "Epoch 49/50\n",
      "150906/150906 [==============================] - 1s 9us/step - loss: 0.1649 - acc: 0.9420 - val_loss: 0.1642 - val_acc: 0.9450\n",
      "Epoch 50/50\n",
      "150906/150906 [==============================] - 1s 9us/step - loss: 0.1646 - acc: 0.9421 - val_loss: 0.1644 - val_acc: 0.9432\n"
     ]
    }
   ],
   "source": [
    "# Use validation split of 0.25 while fitting the model\n",
    "# Run for 50 epochs with batch size of 128\n",
    "start_time = time.time()\n",
    "history = ann_model.fit(X_train, y_wide, batch_size = 128, epochs=50, validation_split=0.25, verbose=1)\n",
    "end_time = time.time()"
   ]
  },
  {
   "cell_type": "markdown",
   "metadata": {},
   "source": [
    "Print the time taken to train the model"
   ]
  },
  {
   "cell_type": "code",
   "execution_count": 53,
   "metadata": {},
   "outputs": [
    {
     "name": "stdout",
     "output_type": "stream",
     "text": [
      "The time taken to train the ANN model is : 73.31 seconds\n"
     ]
    }
   ],
   "source": [
    "print(\"The time taken to train the ANN model is : %.2f seconds\" % (end_time - start_time))"
   ]
  },
  {
   "cell_type": "markdown",
   "metadata": {},
   "source": [
    "Predict on the model using the test set, and find accuracy, evaluation measures"
   ]
  },
  {
   "cell_type": "markdown",
   "metadata": {},
   "source": [
    "### Plot Training vs Validation loss and Accuracy with the Number of Epochs"
   ]
  },
  {
   "cell_type": "code",
   "execution_count": 75,
   "metadata": {},
   "outputs": [
    {
     "data": {
      "image/png": "[encoded data removed]",
      "text/plain": [
       "<matplotlib.figure.Figure at 0x12ba56c18>"
      ]
     },
     "metadata": {},
     "output_type": "display_data"
    },
    {
     "data": {
      "image/png": "[encoded data removed]",
      "text/plain": [
       "<matplotlib.figure.Figure at 0x12b9e49e8>"
      ]
     },
     "metadata": {},
     "output_type": "display_data"
    }
   ],
   "source": [
    "# Plot Training loss and Validation loss\n",
    "loss = history.history['loss']\n",
    "val_loss = history.history['val_loss']\n",
    "plt.xlabel('Epochs')\n",
    "plt.ylabel('Loss')\n",
    "plt.plot(loss, 'blue', label='Training Loss')\n",
    "plt.plot(val_loss, 'green', label='Validation Loss')\n",
    "plt.xticks(range(0,50)[0::2])\n",
    "plt.legend()\n",
    "plt.show()\n",
    "\n",
    "# Plot Training accuracy and Validation accuracy\n",
    "acc = history.history['acc']\n",
    "val_acc = history.history['val_acc']\n",
    "plt.xlabel('Epochs')\n",
    "plt.ylabel('Accuracy')\n",
    "plt.plot(acc, 'blue', label='Training accuracy')\n",
    "plt.plot(val_acc, 'green', label='Validation accuracy')\n",
    "plt.xticks(range(0,50)[0::2])\n",
    "plt.legend()\n",
    "plt.show()"
   ]
  },
  {
   "cell_type": "markdown",
   "metadata": {},
   "source": [
    "We observe that the training and validation accuracy and losses both start merging with each other after ~10 epochs, proving that the model is trained well and there is no overfitting. "
   ]
  },
  {
   "cell_type": "markdown",
   "metadata": {},
   "source": [
    "### List of Validation Accuracy: \n",
    "\n",
    "|  Model |  Validation Accuracy\n",
    "| :- |:-\n",
    "| Random Forest | 88% \n",
    "| Super Learner | 82% \n",
    "| Artificial Neural network (ANN) | 95% \n",
    "\n",
    "\n",
    "Since ANN is giving the highest overall accuracy and lowest overall loss, we select this as our state-based learner for the Lunar lander task."
   ]
  },
  {
   "cell_type": "markdown",
   "metadata": {},
   "source": [
    "### Evaluation experiment on the model"
   ]
  },
  {
   "cell_type": "markdown",
   "metadata": {},
   "source": [
    "Now, we select ANN as our best state-based Supervised learning model, and predict the model usign test set. We calculate accuracy and the confusion matrix for the action labels."
   ]
  },
  {
   "cell_type": "code",
   "execution_count": 76,
   "metadata": {},
   "outputs": [
    {
     "name": "stdout",
     "output_type": "stream",
     "text": [
      "Accuracy of ANN on test set is : 0.942548158161541\n",
      "Classification report of ANN : \n",
      "              precision    recall  f1-score   support\n",
      "\n",
      "          0       0.93      0.98      0.96     23574\n",
      "          1       0.84      0.46      0.59      1780\n",
      "          2       0.96      0.98      0.97     23187\n",
      "          3       0.78      0.50      0.61      1762\n",
      "\n",
      "avg / total       0.94      0.94      0.94     50303\n",
      "\n"
     ]
    },
    {
     "data": {
      "text/html": [
       "<div>\n",
       "<style>\n",
       "    .dataframe thead tr:only-child th {\n",
       "        text-align: right;\n",
       "    }\n",
       "\n",
       "    .dataframe thead th {\n",
       "        text-align: left;\n",
       "    }\n",
       "\n",
       "    .dataframe tbody tr th {\n",
       "        vertical-align: top;\n",
       "    }\n",
       "</style>\n",
       "<table border=\"1\" class=\"dataframe\">\n",
       "  <thead>\n",
       "    <tr style=\"text-align: right;\">\n",
       "      <th>Predicted</th>\n",
       "      <th>0</th>\n",
       "      <th>1</th>\n",
       "      <th>2</th>\n",
       "      <th>3</th>\n",
       "      <th>All</th>\n",
       "    </tr>\n",
       "    <tr>\n",
       "      <th>True</th>\n",
       "      <th></th>\n",
       "      <th></th>\n",
       "      <th></th>\n",
       "      <th></th>\n",
       "      <th></th>\n",
       "    </tr>\n",
       "  </thead>\n",
       "  <tbody>\n",
       "    <tr>\n",
       "      <th>0</th>\n",
       "      <td>23066</td>\n",
       "      <td>101</td>\n",
       "      <td>227</td>\n",
       "      <td>180</td>\n",
       "      <td>23574</td>\n",
       "    </tr>\n",
       "    <tr>\n",
       "      <th>1</th>\n",
       "      <td>664</td>\n",
       "      <td>811</td>\n",
       "      <td>304</td>\n",
       "      <td>1</td>\n",
       "      <td>1780</td>\n",
       "    </tr>\n",
       "    <tr>\n",
       "      <th>2</th>\n",
       "      <td>413</td>\n",
       "      <td>54</td>\n",
       "      <td>22658</td>\n",
       "      <td>62</td>\n",
       "      <td>23187</td>\n",
       "    </tr>\n",
       "    <tr>\n",
       "      <th>3</th>\n",
       "      <td>529</td>\n",
       "      <td>0</td>\n",
       "      <td>355</td>\n",
       "      <td>878</td>\n",
       "      <td>1762</td>\n",
       "    </tr>\n",
       "    <tr>\n",
       "      <th>All</th>\n",
       "      <td>24672</td>\n",
       "      <td>966</td>\n",
       "      <td>23544</td>\n",
       "      <td>1121</td>\n",
       "      <td>50303</td>\n",
       "    </tr>\n",
       "  </tbody>\n",
       "</table>\n",
       "</div>"
      ],
      "text/plain": [
       "Predicted      0    1      2     3    All\n",
       "True                                     \n",
       "0          23066  101    227   180  23574\n",
       "1            664  811    304     1   1780\n",
       "2            413   54  22658    62  23187\n",
       "3            529    0    355   878   1762\n",
       "All        24672  966  23544  1121  50303"
      ]
     },
     "execution_count": 76,
     "metadata": {},
     "output_type": "execute_result"
    }
   ],
   "source": [
    "# Testing on the test set\n",
    "y_pred = ann_model.predict_classes(X_test)\n",
    "\n",
    "print(\"Accuracy of ANN on test set is :\", metrics.accuracy_score(y_test, y_pred))\n",
    "print(\"Classification report of ANN : \\n\", metrics.classification_report(y_test, y_pred))\n",
    "# Confusion matrix\n",
    "pd.crosstab(np.array(y_test), y_pred, rownames=['True'], colnames=['Predicted'], margins=True)"
   ]
  },
  {
   "cell_type": "markdown",
   "metadata": {},
   "source": [
    "####  Since we observe that highest accuracy and lowest loss is in the Artificial neural network model, we  persist the model for future use without having to retrain it."
   ]
  },
  {
   "cell_type": "markdown",
   "metadata": {},
   "source": [
    "Save the model into persistent file"
   ]
  },
  {
   "cell_type": "code",
   "execution_count": 35,
   "metadata": {
    "collapsed": true
   },
   "outputs": [],
   "source": [
    "filepath = \"player_state.mod\"\n",
    "ann_model.save(filepath)"
   ]
  }
 ],
 "metadata": {
  "kernelspec": {
   "display_name": "Python 3",
   "language": "python",
   "name": "python3"
  },
  "language_info": {
   "codemirror_mode": {
    "name": "ipython",
    "version": 3
   },
   "file_extension": ".py",
   "mimetype": "text/x-python",
   "name": "python",
   "nbconvert_exporter": "python",
   "pygments_lexer": "ipython3",
   "version": "3.6.1"
  }
 },
 "nbformat": 4,
 "nbformat_minor": 2
}
